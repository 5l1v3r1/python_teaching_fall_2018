{
 "cells": [
  {
   "cell_type": "markdown",
   "metadata": {},
   "source": [
    "Assignments\n",
    "==="
   ]
  },
  {
   "cell_type": "markdown",
   "metadata": {},
   "source": [
    "Hello World\n",
    "---\n",
    "\n",
    "Purpose: Show that you can write and run a Python program.\n",
    "\n",
    "- Write a *hello.py* program that prints a one-line greeting.\n",
    "- Write two more one-line programs that print a message to the screen.\n",
    "\n",
    "I should see a python_work folder in your home drive, and three .py files inside."
   ]
  },
  {
   "cell_type": "markdown",
   "metadata": {},
   "source": [
    "Variables\n",
    "---\n",
    "\n",
    "Purpose: Show that you can store a value in a variable.\n",
    "\n",
    "- Write a program that stores a message in a variable, and then prints that message."
   ]
  },
  {
   "cell_type": "markdown",
   "metadata": {},
   "source": [
    "Using Variables in Strings (f-strings)\n",
    "---\n",
    "\n",
    "Purpose: Show that you can use a variable inside a string.\n",
    "\n",
    "- *my_f_strings.py*\n",
    "  - Write 3 print statements that include at least one variable each."
   ]
  },
  {
   "cell_type": "markdown",
   "metadata": {},
   "source": [
    "Working with Lists\n",
    "---\n",
    "\n",
    "Purpose: Show that you can define a list, and access items in the list. You can name your programs anything you want, as long as it ends in .py and indicates something about what the program does.\n",
    "\n",
    "Consider lists like favorite_places, excellent_teachers, motorcycles, mountains, rivers, good_politicians, snapchat_users, etc.\n",
    "\n",
    "- *my_first_list.py*\n",
    "  - Make a program that includes a list. Choose the kinds of things you want to store in a list, and a name for the list. Store at least 5 items in the list.\n",
    "  - Print three items from the list, or three messages that include items from the list.\n",
    "  \n",
    "- *my_second_list.py*\n",
    "  - Make a program that includes a list. You are free to copy your list from the last program, but make sure you're working in a new file with a different filename.\n",
    "  - Use `append()` at least three times to add items to your list.\n",
    "  - Print three items from the list, or three messages that include items from the list.\n",
    "    - Make sure you print the first item, and item somewhere in the middle, and the last item.\n"
   ]
  }
 ],
 "metadata": {
  "kernelspec": {
   "display_name": "Python 3",
   "language": "python",
   "name": "python3"
  },
  "language_info": {
   "codemirror_mode": {
    "name": "ipython",
    "version": 3
   },
   "file_extension": ".py",
   "mimetype": "text/x-python",
   "name": "python",
   "nbconvert_exporter": "python",
   "pygments_lexer": "ipython3",
   "version": "3.6.1"
  }
 },
 "nbformat": 4,
 "nbformat_minor": 2
}
