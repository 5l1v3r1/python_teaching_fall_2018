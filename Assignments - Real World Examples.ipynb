{
 "cells": [
  {
   "cell_type": "markdown",
   "metadata": {},
   "source": [
    "Assignments - Real World Examples\n",
    "==="
   ]
  },
  {
   "cell_type": "markdown",
   "metadata": {},
   "source": [
    "Motion-Activated Lights\n",
    "---\n",
    "\n",
    "Once you have covered if statements and working with input, you have enough understanding to model some real-world situations. Many lights these days are light- and motion- activated. They turn only when they detect motion at night.\n",
    "\n",
    "Write a program that asks two questions:\n",
    "- Is it dark out?\n",
    "- Is anyone moving nearby?\n",
    "\n",
    "After answering these two questions, your program shoud either print \"The light is staying off\" or \"The light is turning on!\"\n",
    "\n",
    "*This is exactly the code that's running inside every motion-activated light you see. Instead of printing a message, the code turns a switch on or off inside the light.*"
   ]
  },
  {
   "cell_type": "code",
   "execution_count": null,
   "metadata": {
    "collapsed": true
   },
   "outputs": [],
   "source": []
  },
  {
   "cell_type": "markdown",
   "metadata": {},
   "source": [
    "Dishes!\n",
    "---\n",
    "\n",
    "(dedicated to Philip on 11/19/18)\n",
    "\n",
    "Once you know about lists, you can write a dishwasher-selection program. You also need to know about `choice`.\n",
    "\n",
    "Write a program that stores 10 students names in a list, and randomly selects two students for dishes.\n",
    "\n",
    "Bonus: It runs in a loop that keeps returning pairs. blah"
   ]
  }
 ],
 "metadata": {
  "kernelspec": {
   "display_name": "Python 3",
   "language": "python",
   "name": "python3"
  },
  "language_info": {
   "codemirror_mode": {
    "name": "ipython",
    "version": 3
   },
   "file_extension": ".py",
   "mimetype": "text/x-python",
   "name": "python",
   "nbconvert_exporter": "python",
   "pygments_lexer": "ipython3",
   "version": "3.6.1"
  }
 },
 "nbformat": 4,
 "nbformat_minor": 2
}
