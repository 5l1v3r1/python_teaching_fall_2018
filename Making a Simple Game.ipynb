{
 "cells": [
  {
   "cell_type": "markdown",
   "metadata": {},
   "source": [
    "Making a Simple Game\n",
    "===\n",
    "\n",
    "We've now learned enough to make a simple game. We'll make a game called Hero Game, where the hero can move around the left side of the screen. The hero must collect good things and avoid bad things.\n",
    "\n",
    "You'll learn about user-controlled and automated movement. You'll learn about collisions, and how to respond to them.\n",
    "\n",
    "That's the heart of all video games. Almost everything else is refinement of these core concepts."
   ]
  },
  {
   "cell_type": "markdown",
   "metadata": {},
   "source": [
    "Making an empty game window appear.\n",
    "---"
   ]
  },
  {
   "cell_type": "code",
   "execution_count": null,
   "metadata": {},
   "outputs": [],
   "source": [
    "import sys\n",
    "\n",
    "import pygame\n",
    "\n",
    "class SidewaysHero:\n",
    "    \"\"\"Overall class to manage game assets and behavior.\"\"\"\n",
    "\n",
    "    def __init__(self):\n",
    "        \"\"\"Initialize the game, and create game resources.\"\"\"\n",
    "        pygame.init()\n",
    "\n",
    "        self.screen = pygame.display.set_mode((1200, 800))\n",
    "        pygame.display.set_caption(\"Sideways Hero\")\n",
    "\n",
    "    def run_game(self):\n",
    "        \"\"\"Start the main loop for the game.\"\"\"\n",
    "        while True:\n",
    "            # Watch for keyboard and mouse events.\n",
    "            for event in pygame.event.get():\n",
    "                if event.type == pygame.QUIT:\n",
    "                    sys.exit()\n",
    "\n",
    "            # Make the most recently drawn screen visible.\n",
    "            pygame.display.flip()\n",
    "\n",
    "if __name__ == '__main__':\n",
    "    # Make a game instance, and run the game.\n",
    "    sh_game = SidewaysHero()\n",
    "    sh_game.run_game()"
   ]
  }
 ],
 "metadata": {
  "kernelspec": {
   "display_name": "Python 3",
   "language": "python",
   "name": "python3"
  },
  "language_info": {
   "codemirror_mode": {
    "name": "ipython",
    "version": 3
   },
   "file_extension": ".py",
   "mimetype": "text/x-python",
   "name": "python",
   "nbconvert_exporter": "python",
   "pygments_lexer": "ipython3",
   "version": "3.6.1"
  }
 },
 "nbformat": 4,
 "nbformat_minor": 2
}
