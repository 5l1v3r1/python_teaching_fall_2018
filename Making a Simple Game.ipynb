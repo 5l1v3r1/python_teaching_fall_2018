{
 "cells": [
  {
   "cell_type": "markdown",
   "metadata": {},
   "source": [
    "Making a Simple Game\n",
    "===\n",
    "\n",
    "We've now learned enough to make a simple game. We'll make a game called Hero Game, where the hero can move around the left side of the screen. The hero must collect good things and avoid bad things.\n",
    "\n",
    "You'll learn about user-controlled and automated movement. You'll learn about collisions, and how to respond to them.\n",
    "\n",
    "That's the heart of all video games. Almost everything else is refinement of these core concepts."
   ]
  }
 ],
 "metadata": {
  "kernelspec": {
   "display_name": "Python 3",
   "language": "python",
   "name": "python3"
  },
  "language_info": {
   "codemirror_mode": {
    "name": "ipython",
    "version": 3
   },
   "file_extension": ".py",
   "mimetype": "text/x-python",
   "name": "python",
   "nbconvert_exporter": "python",
   "pygments_lexer": "ipython3",
   "version": "3.6.1"
  }
 },
 "nbformat": 4,
 "nbformat_minor": 2
}
