{
 "cells": [
  {
   "cell_type": "markdown",
   "metadata": {},
   "source": [
    "Playing with Photos\n",
    "---\n",
    "\n",
    "In this project, we'll load the pixels from an image and then manipulate those pixels to create a variety of effects.\n",
    "\n",
    "Maybe: two simple pixel manipulations, one that examines neighbor pixels?"
   ]
  },
  {
   "cell_type": "markdown",
   "metadata": {},
   "source": [
    "We'll start by using this wonderful image:\n",
    "\n",
    "<img src=\"photo_project_images/willie_crab.jpg\" alt=\"Willie and crab\" width=600>"
   ]
  },
  {
   "cell_type": "markdown",
   "metadata": {},
   "source": [
    "Loading all pixels\n",
    "---\n",
    "\n",
    "Start by making a folder called *photo_filter_1*. Save a photo you want to work with in this folder.\n",
    "\n",
    "Also, to do this project you'll need to install the Python image library called `pillow`. Do this on a Windows command line:\n",
    "\n",
    "    > python -m pip install --user pillow\n",
    "\n",
    "The following code loads all the pixels in an image. It then creates a blank white image with the same dimensions as the original image, and saves this image under a different filename. Run this code, and see if you get a new image file that's all white in your project folder."
   ]
  },
  {
   "cell_type": "code",
   "execution_count": 2,
   "metadata": {},
   "outputs": [
    {
     "name": "stdout",
     "output_type": "stream",
     "text": [
      "Original image: RGB (1632, 1224)\n",
      "Saved modified_willie_crab.jpg.\n"
     ]
    }
   ],
   "source": [
    "from PIL import Image\n",
    "\n",
    "filename = 'willie_crab.jpg'                                           # Use your photo's filename here.\n",
    "\n",
    "# Read in original image.\n",
    "orig_img = Image.open(filename)\n",
    "print(\"Original image:\", orig_img.mode, orig_img.size)\n",
    "\n",
    "# Load pixels.\n",
    "#  This code loads all the pixels from the original image.\n",
    "pixel_map = orig_img.load()\n",
    "\n",
    "# This code creates a new image that matches the size of the original\n",
    "#  image. It also sets all the pixels in the new image to white.\n",
    "new_img = Image.new(orig_img.mode, orig_img.size, 'white')\n",
    "# new_img_pixel_map = new_img.load()\n",
    "\n",
    "# Show the image.\n",
    "new_img.show()\n",
    "\n",
    "# Save the image.\n",
    "new_filename = f\"modified_{filename}\"\n",
    "new_img.save(new_filename)\n",
    "print(f\"Saved {new_filename}.\")"
   ]
  },
  {
   "cell_type": "markdown",
   "metadata": {},
   "source": [
    "Stage 2: Making an exact copy of the image\n",
    "---\n",
    "\n",
    "Close everything that's open, "
   ]
  }
 ],
 "metadata": {
  "kernelspec": {
   "display_name": "Python 3",
   "language": "python",
   "name": "python3"
  },
  "language_info": {
   "codemirror_mode": {
    "name": "ipython",
    "version": 3
   },
   "file_extension": ".py",
   "mimetype": "text/x-python",
   "name": "python",
   "nbconvert_exporter": "python",
   "pygments_lexer": "ipython3",
   "version": "3.6.1"
  }
 },
 "nbformat": 4,
 "nbformat_minor": 2
}
