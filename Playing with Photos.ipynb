{
 "cells": [
  {
   "cell_type": "markdown",
   "metadata": {},
   "source": [
    "Playing with Photos\n",
    "---\n",
    "\n",
    "In this project, we'll load the pixels from an image and then manipulate those pixels to create a variety of effects.\n",
    "\n",
    "Maybe: two simple pixel manipulations, one that examines neighbor pixels?"
   ]
  },
  {
   "cell_type": "markdown",
   "metadata": {},
   "source": [
    "Loading all pixels\n",
    "---\n",
    "\n",
    "The following code loads all the pixels in an image. It then creates a blank white image with the same dimensions as the original image, and saves this image under a different filename. You can do anything with you want as you place pixels onto the new image."
   ]
  },
  {
   "cell_type": "code",
   "execution_count": null,
   "metadata": {
    "collapsed": true
   },
   "outputs": [],
   "source": [
    "from PIL import Image\n",
    "\n",
    "filename = 'IMG_1850.JPG'\n",
    "\n",
    "# Read in original image.\n",
    "orig_img = Image.open(filename)\n",
    "print(\"Original image:\", orig_img.mode, orig_img.size)\n",
    "\n",
    "# Load pixels.\n",
    "pixel_map = orig_img.load()\n",
    "\n",
    "# Create a new image and load its pixels.\n",
    "new_img = Image.new(orig_img.mode, orig_img.size, 'white')\n",
    "new_img_pixel_map = new_img.load()\n",
    "\n",
    "# Show the image.\n",
    "new_img.show()\n",
    "\n",
    "# Save the image.\n",
    "new_filename = f\"modified_{filename}\"\n",
    "new_img.save(new_filename)\n",
    "print(f\"Saved {new_filename}.\")"
   ]
  }
 ],
 "metadata": {
  "kernelspec": {
   "display_name": "Python 3",
   "language": "python",
   "name": "python3"
  },
  "language_info": {
   "codemirror_mode": {
    "name": "ipython",
    "version": 3
   },
   "file_extension": ".py",
   "mimetype": "text/x-python",
   "name": "python",
   "nbconvert_exporter": "python",
   "pygments_lexer": "ipython3",
   "version": "3.6.1"
  }
 },
 "nbformat": 4,
 "nbformat_minor": 2
}
