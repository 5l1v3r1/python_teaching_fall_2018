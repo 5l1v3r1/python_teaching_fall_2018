{
 "cells": [
  {
   "cell_type": "markdown",
   "metadata": {},
   "source": [
    "Dictionaries!!!\n",
    "===\n",
    "\n",
    "Dictionaries allow you to connect pieces of information."
   ]
  },
  {
   "cell_type": "code",
   "execution_count": 1,
   "metadata": {},
   "outputs": [
    {
     "name": "stdout",
     "output_type": "stream",
     "text": [
      "eric, you are 10 cools!\n",
      "matt, you are 3 cools!\n",
      "simon, you are 7 cools!\n",
      "mandy, you are 11 cools!\n",
      "barb, you are 9 cools!\n",
      "tammy, you are 8 cools!\n",
      "willie, you are 0 cools!\n",
      "moo, you are -1 cools!\n"
     ]
    }
   ],
   "source": [
    "# Example.\n",
    "cool_kids = {'eric': 10, 'matt': 3, 'simon': 7, 'mandy': 11, 'barb': 9, 'tammy': 8,\n",
    "            'willie': 0, 'moo': -1\n",
    "            }\n",
    "\n",
    "for kid, coolness in cool_kids.items():\n",
    "    print(f\"{kid}, you are {coolness} cools!\")"
   ]
  },
  {
   "cell_type": "code",
   "execution_count": 2,
   "metadata": {},
   "outputs": [
    {
     "name": "stdout",
     "output_type": "stream",
     "text": [
      "eric, I can't even stand next to you!\n",
      "matt, okay, we'll help you out.\n",
      "simon, you're pretty cool.\n",
      "mandy, I can't even stand next to you!\n",
      "barb, you're pretty cool.\n",
      "tammy, you're pretty cool.\n",
      "willie, please go away.\n",
      "moo, please go away.\n"
     ]
    }
   ],
   "source": [
    "cool_kids = {'eric': 10, 'matt': 3, 'simon': 7, 'mandy': 11, 'barb': 9, 'tammy': 8,\n",
    "            'willie': 0, 'moo': -1\n",
    "            }\n",
    "\n",
    "for kid, coolness in cool_kids.items():\n",
    "    if coolness >= 10:\n",
    "        print(f\"{kid}, I can't even stand next to you!\")\n",
    "    elif coolness > 5:\n",
    "        print(f\"{kid}, you're pretty cool.\")\n",
    "    elif coolness > 0:\n",
    "        print(f\"{kid}, okay, we'll help you out.\")\n",
    "    else:\n",
    "        print(f\"{kid}, please go away.\")"
   ]
  }
 ],
 "metadata": {
  "kernelspec": {
   "display_name": "Python 3",
   "language": "python",
   "name": "python3"
  },
  "language_info": {
   "codemirror_mode": {
    "name": "ipython",
    "version": 3
   },
   "file_extension": ".py",
   "mimetype": "text/x-python",
   "name": "python",
   "nbconvert_exporter": "python",
   "pygments_lexer": "ipython3",
   "version": "3.6.1"
  }
 },
 "nbformat": 4,
 "nbformat_minor": 2
}
