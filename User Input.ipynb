{
 "cells": [
  {
   "cell_type": "markdown",
   "metadata": {},
   "source": [
    "User Input\n",
    "===\n",
    "\n",
    "Your programs get much more interesting once you start working with user input. Instead of always running the same way, your programs run differently depending on what input your users provide."
   ]
  },
  {
   "cell_type": "code",
   "execution_count": 2,
   "metadata": {},
   "outputs": [
    {
     "name": "stdout",
     "output_type": "stream",
     "text": [
      "Hello, who are you? abraham\n",
      "Hello, abraham, it's so nice to have you in class!\n"
     ]
    }
   ],
   "source": [
    "# Example.\n",
    "\n",
    "name = input(\"Hello, who are you? \")\n",
    "\n",
    "print(f\"Hello, {name}, it's so nice to have you in class!\")"
   ]
  },
  {
   "cell_type": "code",
   "execution_count": 3,
   "metadata": {},
   "outputs": [
    {
     "name": "stdout",
     "output_type": "stream",
     "text": [
      "Hi, what's your first name? mandy\n",
      "Hi, what's your last name? summer\n",
      "Hello, mandy summer!\n"
     ]
    }
   ],
   "source": [
    "# Getting two pieces of input?\n",
    "first_name = input(\"Hi, what's your first name? \")\n",
    "last_name = input(\"Hi, what's your last name? \")\n",
    "\n",
    "print(f\"Hello, {first_name} {last_name}!\")"
   ]
  },
  {
   "cell_type": "markdown",
   "metadata": {},
   "source": []
  },
  {
   "cell_type": "code",
   "execution_count": null,
   "metadata": {
    "collapsed": true
   },
   "outputs": [],
   "source": []
  }
 ],
 "metadata": {
  "kernelspec": {
   "display_name": "Python 3",
   "language": "python",
   "name": "python3"
  },
  "language_info": {
   "codemirror_mode": {
    "name": "ipython",
    "version": 3
   },
   "file_extension": ".py",
   "mimetype": "text/x-python",
   "name": "python",
   "nbconvert_exporter": "python",
   "pygments_lexer": "ipython3",
   "version": "3.6.1"
  }
 },
 "nbformat": 4,
 "nbformat_minor": 2
}
