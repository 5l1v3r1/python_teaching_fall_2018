{
 "cells": [
  {
   "cell_type": "markdown",
   "metadata": {},
   "source": [
    "If Statements\n",
    "===\n",
    "\n",
    "If statements are at the heart of almost all decision-making in programming. If statements allow you to treat some data differently than the rest of your data."
   ]
  },
  {
   "cell_type": "code",
   "execution_count": 1,
   "metadata": {},
   "outputs": [
    {
     "name": "stdout",
     "output_type": "stream",
     "text": [
      "Hello, devin.\n",
      "Hello, killian.\n",
      "Hello, eric.\n",
      "Hello, matt.\n",
      "  Please, no puns today!\n",
      "Hello, psalm.\n",
      "Hello, roger.\n"
     ]
    }
   ],
   "source": [
    "# Example.\n",
    "names = ['devin', 'killian', 'eric', 'matt', 'psalm', 'roger']\n",
    "\n",
    "for name in names:\n",
    "    print(f\"Hello, {name}.\")\n",
    "    if name == 'matt':\n",
    "        print(\"  Please, no puns today!\")"
   ]
  },
  {
   "cell_type": "markdown",
   "metadata": {},
   "source": [
    "Conditional Statements\n",
    "---\n",
    "\n",
    "blah"
   ]
  },
  {
   "cell_type": "markdown",
   "metadata": {},
   "source": [
    "Simple if statements\n",
    "---\n",
    "\n",
    "blah"
   ]
  },
  {
   "cell_type": "markdown",
   "metadata": {},
   "source": [
    "If-else statements\n",
    "---\n",
    "\n",
    "blah"
   ]
  },
  {
   "cell_type": "markdown",
   "metadata": {},
   "source": [
    "If-elif-else statements\n",
    "---\n",
    "\n",
    "blah"
   ]
  },
  {
   "cell_type": "markdown",
   "metadata": {},
   "source": [
    "If-if-if statements\n",
    "---\n",
    "\n",
    "blah"
   ]
  }
 ],
 "metadata": {
  "kernelspec": {
   "display_name": "Python 3",
   "language": "python",
   "name": "python3"
  },
  "language_info": {
   "codemirror_mode": {
    "name": "ipython",
    "version": 3
   },
   "file_extension": ".py",
   "mimetype": "text/x-python",
   "name": "python",
   "nbconvert_exporter": "python",
   "pygments_lexer": "ipython3",
   "version": "3.6.1"
  }
 },
 "nbformat": 4,
 "nbformat_minor": 2
}
