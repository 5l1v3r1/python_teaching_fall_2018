{
 "cells": [
  {
   "cell_type": "markdown",
   "metadata": {},
   "source": [
    "Project Notes\n",
    "===\n",
    "\n",
    "A notebook for examples of projects, and snippets related to projects."
   ]
  },
  {
   "cell_type": "markdown",
   "metadata": {},
   "source": [
    "Spelling Quizzer\n",
    "---\n",
    "\n",
    "My son needs to practice his spelling words every week. A little fun, but let's not go [this far](https://www.youtube.com/watch?v=Nwy74zWgkDE)."
   ]
  },
  {
   "cell_type": "code",
   "execution_count": 1,
   "metadata": {},
   "outputs": [
    {
     "name": "stdout",
     "output_type": "stream",
     "text": [
      "Spell the word: complete\n",
      "Spell the word: completed\n",
      "Spell the word: shoulder\n",
      "Spell the word: deleted\n"
     ]
    }
   ],
   "source": [
    "# I don't want to show you the code, because this could be a project someone might want to do.\n",
    "\n",
    "from spelling_practice import run_quiz\n",
    "\n",
    "run_quiz()"
   ]
  }
 ],
 "metadata": {
  "kernelspec": {
   "display_name": "Python 3",
   "language": "python",
   "name": "python3"
  },
  "language_info": {
   "codemirror_mode": {
    "name": "ipython",
    "version": 3
   },
   "file_extension": ".py",
   "mimetype": "text/x-python",
   "name": "python",
   "nbconvert_exporter": "python",
   "pygments_lexer": "ipython3",
   "version": "3.6.1"
  }
 },
 "nbformat": 4,
 "nbformat_minor": 2
}
