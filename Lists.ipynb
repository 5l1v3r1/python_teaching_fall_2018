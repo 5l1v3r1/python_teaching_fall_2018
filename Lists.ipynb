{
 "cells": [
  {
   "cell_type": "markdown",
   "metadata": {},
   "source": [
    "Lists\n",
    "---\n",
    "\n",
    "- What is a list?\n",
    "- How do you make one?\n",
    "- How do you get information out?\n",
    "- How do you add to it?"
   ]
  },
  {
   "cell_type": "markdown",
   "metadata": {},
   "source": [
    "What is a list?\n",
    "---\n",
    "\n",
    "- A list lets you hold as much information as you want.\n",
    "- It stores things in order.\n",
    "- You can add to lists, remove items, copy them..."
   ]
  },
  {
   "cell_type": "markdown",
   "metadata": {},
   "source": []
  },
  {
   "cell_type": "code",
   "execution_count": 7,
   "metadata": {},
   "outputs": [
    {
     "name": "stdout",
     "output_type": "stream",
     "text": [
      "['abraham', 'philip', 'martin luther king']\n",
      "['abraham', 'philip', 'martin luther king', 'batman', 'the flash', 'lego batman', 'wonder woman', 'mandy']\n",
      "abraham\n",
      "philip\n",
      "the flash\n",
      "mandy\n",
      "wonder woman\n"
     ]
    }
   ],
   "source": [
    "# Example\n",
    "superheroes = ['abraham', 'philip', 'martin luther king']\n",
    "print(superheroes)\n",
    "\n",
    "# Add to a list.\n",
    "superheroes.append('batman')\n",
    "superheroes.append('the flash')\n",
    "superheroes.append('lego batman')\n",
    "superheroes.append('wonder woman')\n",
    "superheroes.append('mandy')\n",
    "\n",
    "print(superheroes)\n",
    "\n",
    "# Getting information out.\n",
    "print(superheroes[0])\n",
    "print(superheroes[1])\n",
    "print(superheroes[4])\n",
    "print(superheroes[-1])\n",
    "print(superheroes[-2])"
   ]
  },
  {
   "cell_type": "code",
   "execution_count": null,
   "metadata": {
    "collapsed": true
   },
   "outputs": [],
   "source": [
    "snapchat_users[0]\n",
    "snapchat_users[-1]\n",
    "snapchat_users[1000000000]"
   ]
  }
 ],
 "metadata": {
  "kernelspec": {
   "display_name": "Python 3",
   "language": "python",
   "name": "python3"
  },
  "language_info": {
   "codemirror_mode": {
    "name": "ipython",
    "version": 3
   },
   "file_extension": ".py",
   "mimetype": "text/x-python",
   "name": "python",
   "nbconvert_exporter": "python",
   "pygments_lexer": "ipython3",
   "version": "3.6.1"
  }
 },
 "nbformat": 4,
 "nbformat_minor": 2
}
