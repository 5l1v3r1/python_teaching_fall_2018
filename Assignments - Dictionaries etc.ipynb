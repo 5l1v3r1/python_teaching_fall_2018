{
 "cells": [
  {
   "cell_type": "markdown",
   "metadata": {},
   "source": [
    "Assignments: Dictionaries etc.\n",
    "==="
   ]
  },
  {
   "cell_type": "markdown",
   "metadata": {},
   "source": [
    "Person Dictionary\n",
    "---\n",
    "\n",
    "Make a dictionary that represents a person. Think of five kinds of information that you can store about a person. Use a dictionary to store this information. Print all the information in your dictionary."
   ]
  },
  {
   "cell_type": "markdown",
   "metadata": {},
   "source": [
    "Looping through a Dictionary\n",
    "---\n",
    "\n",
    "Start with your person dictionary, or make a dictionary related to the project you want to do. Write three loops, printing specific information from your dictionary:\n",
    "\n",
    "- Loop through the key-value pairs in your dictionary.\n",
    "- Loop through just the keys in your dictionary.\n",
    "- Loop through just the values in your dictionary."
   ]
  }
 ],
 "metadata": {
  "kernelspec": {
   "display_name": "Python 3",
   "language": "python",
   "name": "python3"
  },
  "language_info": {
   "codemirror_mode": {
    "name": "ipython",
    "version": 3
   },
   "file_extension": ".py",
   "mimetype": "text/x-python",
   "name": "python",
   "nbconvert_exporter": "python",
   "pygments_lexer": "ipython3",
   "version": "3.6.1"
  }
 },
 "nbformat": 4,
 "nbformat_minor": 2
}
