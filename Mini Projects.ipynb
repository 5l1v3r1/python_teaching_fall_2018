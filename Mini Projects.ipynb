{
 "cells": [
  {
   "cell_type": "markdown",
   "metadata": {},
   "source": [
    "Mini Projects\n",
    "===\n",
    "\n",
    "As you gain programming skills, it's pretty fun and satisfying to use your skills to solve problems you couldn't previously solve. Here are some small but meaningful projects you can do."
   ]
  },
  {
   "cell_type": "markdown",
   "metadata": {},
   "source": [
    "Fair Shipping Rates\n",
    "---\n",
    "\n",
    "A pet supply company has always offered free shipping, including to Alaska. They suddenly start adding a $50 surcharge to all orders to Alaska. When asked about it, they claim that their shipping agent is the one who has started applying a surcharge.\n",
    "\n",
    "Here is the page that [describes the surcharges](https://www.ups.com/us/en/shipping/daily-rates.page?), and here is the [raw data](https://www.ups.com/assets/resources/media/akz_hi.csv) for shipping surcharges to Alaska, by zip code. Write a program that reads in this data, asks the user for their zip code, and returns the actual shipping surcharge. Your program should automatically download the shipping data, not copy and paste it into the program. Use comments to explain each major step in your program.\n",
    "\n",
    "Reflection Questions:\n",
    "- How difficult would it be for the people responsible for the shopping cart software to look up the actual shipping cost?\n",
    "- If the pet supplier charges a surcharge to everyone from Alaska regardless of their zip code, who keeps the money when the customer lives in an area with no surcharge?\n",
    "- How often do you think this kind of thing happens? What do you think can be done about it?\n",
    "- If your code was going to become part of the shopping cart software, how might you improve your code?"
   ]
  }
 ],
 "metadata": {
  "kernelspec": {
   "display_name": "Python 3",
   "language": "python",
   "name": "python3"
  },
  "language_info": {
   "codemirror_mode": {
    "name": "ipython",
    "version": 3
   },
   "file_extension": ".py",
   "mimetype": "text/x-python",
   "name": "python",
   "nbconvert_exporter": "python",
   "pygments_lexer": "ipython3",
   "version": "3.6.1"
  }
 },
 "nbformat": 4,
 "nbformat_minor": 2
}
